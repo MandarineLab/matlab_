{
  "nbformat": 4,
  "nbformat_minor": 0,
  "metadata": {
    "colab": {
      "provenance": []
    },
    "kernelspec": {
      "name": "python3",
      "display_name": "Python 3"
    },
    "language_info": {
      "name": "python"
    }
  },
  "cells": [
    {
      "cell_type": "code",
      "execution_count": 16,
      "metadata": {
        "id": "UCT0kLfgOLS6"
      },
      "outputs": [],
      "source": [
        "import yfinance as yf\n",
        "import pandas as pd\n",
        "import numpy as np\n",
        "\n",
        "def obtener_datos(fecha_inicio='2005-01-01', fecha_fin='2025-06-31', nombre_archivo='datoss.xlsx'):\n",
        "    \"\"\"\n",
        "    Descarga datos, calcula transformación y guarda en Excel\n",
        "\n",
        "    Args:\n",
        "        fecha_inicio: Fecha inicial (formato 'YYYY-MM-DD')\n",
        "        fecha_fin: Fecha final (formato 'YYYY-MM-DD')\n",
        "        nombre_archivo: Nombre del archivo Excel de salida\n",
        "    \"\"\"\n",
        "    tickers = {\n",
        "        'S&P_BVL': '^SPBLPGPT',\n",
        "        'USD_PEN': 'PENUSD=X'\n",
        "    }\n",
        "\n",
        "    try:\n",
        "        # Descargar datos históricos\n",
        "        datos = yf.download(\n",
        "            list(tickers.values()),\n",
        "            start=fecha_inicio,\n",
        "            end=fecha_fin\n",
        "        )['Close']\n",
        "\n",
        "        datos.columns = list(tickers.keys())\n",
        "\n",
        "        # Calcular retornos Chan y Hsiao (2014)\n",
        "        retornos = np.log(datos).diff().dropna()\n",
        "        transformed = pd.DataFrame()\n",
        "        for col in retornos.columns:\n",
        "            transformed[f'x_{col}'] = np.log(retornos[col]**2 + 0.001)\n",
        "\n",
        "        # Guardando\n",
        "        transformed.to_excel(nombre_archivo, sheet_name='PENUSD')\n",
        "        print(f\"¡Datos guardados exitosamente en {nombre_archivo}!\")\n",
        "\n",
        "        return transformed\n",
        "\n",
        "    except Exception as e:\n",
        "        print(f\"Error en el proceso: {e}\")\n",
        "        return None\n",
        "\n",
        "# Ejecutar y guardar datos\n",
        "if __name__ == \"__main__\":\n",
        "    # Para todo el período del estudio\n",
        "    datos = obtener_datos(\n",
        "        fecha_inicio='2005-01-01',\n",
        "        fecha_fin='2025-06-01',\n",
        "        nombre_archivo='PENUSD.xlsx'\n",
        "    )"
      ]
    }
  ]
}