{
  "nbformat": 4,
  "nbformat_minor": 0,
  "metadata": {
    "colab": {
      "provenance": []
    },
    "kernelspec": {
      "name": "python3",
      "display_name": "Python 3"
    },
    "language_info": {
      "name": "python"
    }
  },
  "cells": [
    {
      "cell_type": "code",
      "execution_count": null,
      "metadata": {
        "colab": {
          "base_uri": "https://localhost:8080/"
        },
        "id": "tFhvwAQ56Oug",
        "outputId": "362cc178-d1d4-48c3-d957-6a2c33ec7bb1"
      },
      "outputs": [
        {
          "output_type": "stream",
          "name": "stderr",
          "text": [
            "/tmp/ipython-input-3-334327714.py:21: FutureWarning: YF.download() has changed argument auto_adjust default to True\n",
            "  datos = yf.download(\n",
            "[*********************100%***********************]  2 of 2 completed\n"
          ]
        },
        {
          "output_type": "stream",
          "name": "stdout",
          "text": [
            "¡Datos guardados exitosamente en PENUSD.xlsx!\n"
          ]
        }
      ],
      "source": [
        "import yfinance as yf\n",
        "import pandas as pd\n",
        "import numpy as np\n",
        "\n",
        "def obtener_datos(fecha_inicio='2005-01-01', fecha_fin='2025-06-30', nombre_archivo='datoss.xlsx'):\n",
        "    \"\"\"\n",
        "    Descarga datos, calcula transformación y guarda en Excel\n",
        "\n",
        "    Args:\n",
        "        fecha_inicio: Fecha inicial (formato 'YYYY-MM-DD')\n",
        "        fecha_fin: Fecha final (formato 'YYYY-MM-DD')\n",
        "        nombre_archivo: Nombre del archivo Excel de salida\n",
        "    \"\"\"\n",
        "    tickers = {\n",
        "        'S&P_BVL': '^SPBLPGPT',\n",
        "        'USD_PEN': 'PENUSD=X'\n",
        "    }\n",
        "\n",
        "    try:\n",
        "        # Descargar datos históricos\n",
        "        datos = yf.download(\n",
        "            list(tickers.values()),\n",
        "            start=fecha_inicio,\n",
        "            end=fecha_fin\n",
        "        )['Close']\n",
        "\n",
        "        datos.columns = list(tickers.keys())\n",
        "\n",
        "        # Calcular retornos como 100 * [log(P_t) - log(P_{t-1})]\n",
        "        retornos = 100 * (np.log(datos) - np.log(datos.shift(1)))\n",
        "        retornos = retornos.dropna()\n",
        "\n",
        "        # Guardar directamente los retornos\n",
        "        retornos.to_excel(nombre_archivo, sheet_name='PENUSD')\n",
        "        print(f\"¡Datos guardados exitosamente en {nombre_archivo}!\")\n",
        "\n",
        "        return retornos\n",
        "\n",
        "    except Exception as e:\n",
        "        print(f\"Error en el proceso: {e}\")\n",
        "        return None\n",
        "\n",
        "# Ejecutar y guardar datos\n",
        "if __name__ == \"__main__\":\n",
        "    datos = obtener_datos(\n",
        "        fecha_inicio='2005-01-01',\n",
        "        fecha_fin='2025-06-01',\n",
        "        nombre_archivo='PENUSD.xlsx'\n",
        "    )"
      ]
    }
  ]
}